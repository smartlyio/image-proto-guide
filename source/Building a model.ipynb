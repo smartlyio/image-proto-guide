{
 "cells": [
  {
   "cell_type": "markdown",
   "metadata": {},
   "source": [
    "# Analysing results\n",
    "\n",
    "Now that we have scored our images, we can start analysing the results.\n",
    "\n",
    "At this point we should have 4 files within our data folder\n",
    "- active_pictures_scored.csv  - this will be our training set. It contains data from pictures used in actual ads that have been pre-scored\n",
    "- 10kProducts_scored.csv      - this is our data where we want to predict the best images. These have also been pre-scored\n",
    "- 25_sample_images.csv        - this is the sample data we scored in the previous exercise.\n",
    "- 25_sample_images_scored.csv - this is the output data we stored in the previous exercise.\n",
    "\n",
    "And we have a few goals.\n",
    "\n",
    "1. Analyze the usefulness of aesthetic score or other features\n",
    "2. Select a number of pictures to use for advertising from the prediction set."
   ]
  },
  {
   "cell_type": "code",
   "execution_count": null,
   "metadata": {},
   "outputs": [],
   "source": [
    "# Required for showing plots within the notebook.\n",
    "%matplotlib inline\n",
    "import pandas as pd\n",
    "import numpy as np\n",
    "import matplotlib.pyplot as plt\n",
    "from sklearn import linear_model"
   ]
  },
  {
   "cell_type": "markdown",
   "metadata": {},
   "source": [
    "# Understanding the data\n",
    "\n",
    "Try to find out:\n",
    "- Does aesthetic score correlate with any variable?\n",
    "- Does high aesthetic score work better than low aesthetic score?\n",
    "- Does price reflect picture quality?\n",
    "- What variables would you use for ad quality?\n",
    "\n",
    "\n",
    "Here is some python to get you started to understand the data we have"
   ]
  },
  {
   "cell_type": "code",
   "execution_count": null,
   "metadata": {},
   "outputs": [],
   "source": [
    "# Loading the data\n",
    "training_data_file = './../data/active_products_scored.csv'\n",
    "predict_data_file = './../data/10kProducts_scored.csv'\n",
    "train_data = pd.read_csv(training_data_file)\n",
    "predict_data = pd.read_csv(predict_data_file)"
   ]
  },
  {
   "cell_type": "code",
   "execution_count": null,
   "metadata": {},
   "outputs": [],
   "source": [
    "plots = predict_data.hist(bins=20)"
   ]
  },
  {
   "cell_type": "code",
   "execution_count": null,
   "metadata": {},
   "outputs": [],
   "source": [
    "# Prices distribution looks odd. We can get a better understanding of the price-distribution by restricting the axes better\n",
    "prices = predict_data['price'].fillna(0)\n",
    "prices.hist(bins=range(10, 1000, 50))\n",
    "print(\"Max price:\", prices.max())"
   ]
  },
  {
   "cell_type": "code",
   "execution_count": null,
   "metadata": {},
   "outputs": [],
   "source": [
    "# Looking at the highest Aesthetics separately:\n",
    "high_aes = predict_data.nlargest(500, 'aesthetic')\n",
    "high_aes.hist(bins=20)\n",
    "high_aes.head()\n",
    "high_aes.plot(x='average', y='electronics', kind='scatter')\n",
    "high_aes.corr()"
   ]
  },
  {
   "cell_type": "markdown",
   "metadata": {},
   "source": [
    "# Building a model\n",
    "\n",
    "With sufficient understanding of the data, we can start to tackle building a model on top of it.\n",
    "We would like to predict the best performing pictures from the prediction set.\n",
    "\n",
    "Let's aim to build the basics for a model. Starting with simple linear regression\n",
    "\n",
    "For this, let's choose our X & y as aesthetic and ctr. This means we will try to predict ctr with aesthetic."
   ]
  },
  {
   "cell_type": "code",
   "execution_count": null,
   "metadata": {},
   "outputs": [],
   "source": [
    "train_set = train_data\n",
    "predict_set = predict_data\n",
    "training_feature = train_set['aesthetic']\n",
    "target_feature = train_set['ctr']"
   ]
  },
  {
   "cell_type": "markdown",
   "metadata": {},
   "source": [
    "Now we can fit a linear regression to the data, and see what it looks like\n",
    "There is also a handy score-method available to get a numerical estimate of accuracy\n",
    "We should always also validate our predicted values against actual values."
   ]
  },
  {
   "cell_type": "code",
   "execution_count": null,
   "metadata": {},
   "outputs": [],
   "source": [
    "# Scoring the model\n",
    "X = training_feature.values.reshape(-1, 1)\n",
    "y = target_feature.values.reshape(-1, 1)\n",
    "model = linear_model.LinearRegression()\n",
    "model.fit(X, y)\n",
    "predicted_y = model.predict(X)\n",
    "plt.scatter(y, predicted_y,  color='black')\n",
    "print(\"Model score\", model.score(X, y))"
   ]
  },
  {
   "cell_type": "markdown",
   "metadata": {},
   "source": [
    "Our initial score is quite low at 8.64e-05. This means our linear regression model is not noticing any difference in ctr.\n",
    "\n",
    "We need to start improving our model.\n",
    "\n",
    "First thing we can try is to limit our regression to the most aesthetic images.\n",
    "\n",
    "To do this, replace the lines `train_set = train_data` with `train_set = train_data[train_data.aesthetic >= 0.2]` and `predict_set = predict_data` with `predict_set = predict_data[predict_data.aesthetic >= 0.2]`\n",
    "\n",
    "### Advanced tasks\n",
    "Test out other approaches. See how much can you improve the score\n",
    "You can also try to predict performance instead of ctr"
   ]
  },
  {
   "cell_type": "markdown",
   "metadata": {},
   "source": [
    "# Selecting a number of pictures from 10k products\n",
    "\n",
    "Our best guess currently is purely random. Let's see if we can improve it."
   ]
  },
  {
   "cell_type": "code",
   "execution_count": null,
   "metadata": {},
   "outputs": [],
   "source": [
    "NUM_OF_PRODUCTS = 10\n",
    "\n",
    "# Purely random choice\n",
    "# sample = scores.sample(NUM_OF_PRODUCTS)"
   ]
  },
  {
   "cell_type": "markdown",
   "metadata": {},
   "source": [
    "Let's use our trained model from above to see what pictures it would suggest"
   ]
  },
  {
   "cell_type": "code",
   "execution_count": null,
   "metadata": {},
   "outputs": [],
   "source": [
    "predict_set = predict_set.reset_index()\n",
    "X = predict_set['aesthetic'].values.reshape(-1, 1)\n",
    "results = pd.DataFrame(model.predict(X))\n",
    "\n",
    "predict_set['predicted_ctr'] = results\n",
    "predict_set.nlargest(NUM_OF_PRODUCTS, 'predicted_ctr')"
   ]
  },
  {
   "cell_type": "markdown",
   "metadata": {},
   "source": [
    "Manual analysis led us to look at a combination of parameters.\n",
    "Here is a model which selects a number of products where both price and aesthetic value are high enough.\n",
    "Then we use given average scores for the weights of the random sampling.\n",
    "You can compare to the selection above"
   ]
  },
  {
   "cell_type": "code",
   "execution_count": null,
   "metadata": {},
   "outputs": [],
   "source": [
    "# Combined selection by parameters\n",
    "# Selecting only pictures with higher price and higher aesthetic values.\n",
    "price_aes = scores[scores.price > 100]\n",
    "price_aes = scores[scores.aesthetic > 0.2]\n",
    "selected_products = price_aes.sample(NUM_OF_PRODUCTS, weights=price_aes['average'])\n",
    "selected_products"
   ]
  }
 ],
 "metadata": {
  "kernelspec": {
   "display_name": "Python 3",
   "language": "python",
   "name": "python3"
  },
  "language_info": {
   "codemirror_mode": {
    "name": "ipython",
    "version": 3
   },
   "file_extension": ".py",
   "mimetype": "text/x-python",
   "name": "python",
   "nbconvert_exporter": "python",
   "pygments_lexer": "ipython3",
   "version": "3.7.0"
  }
 },
 "nbformat": 4,
 "nbformat_minor": 2
}
