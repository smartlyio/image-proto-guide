{
 "cells": [
  {
   "cell_type": "markdown",
   "metadata": {},
   "source": [
    "# Analysing results\n",
    "\n",
    "Now that we have scored our images, we can start analysing the results.\n",
    "\n",
    "At this point we have a few goals.\n",
    "\n",
    "1. Analyze the usefulness of aesthetic score or other features\n",
    "2. Select a number of pictures to use for advertising from the scored set."
   ]
  },
  {
   "cell_type": "code",
   "execution_count": null,
   "metadata": {},
   "outputs": [],
   "source": [
    "# Required for showing plots within the notebook.\n",
    "%matplotlib inline\n",
    "import pandas as pd"
   ]
  },
  {
   "cell_type": "markdown",
   "metadata": {},
   "source": [
    "Try to find out:\n",
    "- Does aesthetic score correlate with any variable?\n",
    "- Does high aesthetic score work better than low aesthetic score?\n",
    "- Does price reflect picture quality?\n",
    "- What variables would you use for ad quality?\n",
    "\n",
    "\n",
    "Here is some python to get you started"
   ]
  },
  {
   "cell_type": "code",
   "execution_count": null,
   "metadata": {},
   "outputs": [],
   "source": [
    "# Loading the data\n",
    "training_data_file = './../data/active_products_scored.csv'\n",
    "predict_data_file = './../data/10kProducts_scored.csv'\n",
    "train = pd.read_csv(training_data_file)\n",
    "scores = pd.read_csv(predict_data_file)"
   ]
  },
  {
   "cell_type": "code",
   "execution_count": null,
   "metadata": {},
   "outputs": [],
   "source": [
    "scores.hist(bins=20)\n",
    "scores.head()"
   ]
  },
  {
   "cell_type": "code",
   "execution_count": null,
   "metadata": {},
   "outputs": [],
   "source": [
    "# Prices looks odd. We can get a better price-distribution with restricting the axes\n",
    "prices = scores['price'].fillna(0)\n",
    "prices.hist(bins=range(10, 1000, 50))\n",
    "prices.max()"
   ]
  },
  {
   "cell_type": "code",
   "execution_count": null,
   "metadata": {},
   "outputs": [],
   "source": [
    "# Looking at the highest Aesthetics separately:\n",
    "high_aes = scores.nlargest(500, 'aesthetic')\n",
    "high_aes.hist(bins=20)\n",
    "high_aes.head()\n",
    "high_aes.plot(x='average', y='aesthetic', kind='scatter')\n",
    "high_aes.corr()"
   ]
  },
  {
   "cell_type": "markdown",
   "metadata": {},
   "source": [
    "# Selecting a number of pictures from 10k products\n",
    "\n",
    "Our best guess currently is purely random. Let's see if we can improve it."
   ]
  },
  {
   "cell_type": "code",
   "execution_count": null,
   "metadata": {},
   "outputs": [],
   "source": [
    "NUM_OF_PRODUCTS = 100\n",
    "\n",
    "# Purely random choice\n",
    "sample = scores.sample(NUM_OF_PRODUCTS)"
   ]
  },
  {
   "cell_type": "markdown",
   "metadata": {},
   "source": [
    "Most likely, we would like to use a combination of parameters.\n",
    "Here is a model which selects a number of products where both price and aesthetic value are high enough."
   ]
  },
  {
   "cell_type": "code",
   "execution_count": null,
   "metadata": {},
   "outputs": [],
   "source": [
    "# Combined selection by parameters\n",
    "# Selecting only pictures with higher price and higher aesthetic values.\n",
    "price_aes = scores.where(scores['price'] > 500).where(scores['aesthetic'] > 0.5)\n",
    "selected_products = price_aes.sample(NUM_OF_PRODUCTS, weights=price_aes['average'])\n",
    "selected_products.head()"
   ]
  },
  {
   "cell_type": "code",
   "execution_count": null,
   "metadata": {},
   "outputs": [],
   "source": []
  }
 ],
 "metadata": {
  "kernelspec": {
   "display_name": "Python 3",
   "language": "python",
   "name": "python3"
  },
  "language_info": {
   "codemirror_mode": {
    "name": "ipython",
    "version": 3
   },
   "file_extension": ".py",
   "mimetype": "text/x-python",
   "name": "python",
   "nbconvert_exporter": "python",
   "pygments_lexer": "ipython3",
   "version": "3.7.0"
  }
 },
 "nbformat": 4,
 "nbformat_minor": 2
}
