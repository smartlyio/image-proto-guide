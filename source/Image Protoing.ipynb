{
 "cells": [
  {
   "cell_type": "code",
   "execution_count": null,
   "metadata": {},
   "outputs": [],
   "source": [
    "import pandas as pd\n",
    "import os\n",
    "import sys\n",
    "import eyeem\n",
    "%matplotlib inline"
   ]
  },
  {
   "cell_type": "markdown",
   "metadata": {},
   "source": [
    "# Scoring images with external APIs\n",
    "\n",
    "This notebook is about scoring a dataset of images and storing the results to a file for analysis.\n",
    "\n",
    "To being, we need to connect to our APIs. Insert EyeEm client ID and client Secret to be able to continue\n",
    "\n",
    "We'll analyze the picture of ![Image of kitten](https://placekitten.com/300/300)\n",
    "\n",
    "Can you see how cute is the kitten according to the API? The response should have something about 'aesthetic_score'"
   ]
  },
  {
   "cell_type": "code",
   "execution_count": null,
   "metadata": {},
   "outputs": [],
   "source": [
    "client_id = 'CLIENT_ID'\n",
    "client_secret = 'CLIENT_SECRET'\n",
    "\n",
    "eyeem.connect(client_id, client_secret)\n",
    "\n",
    "# Testing that the API works\n",
    "products = ['https://placekitten.com/300/300']\n",
    "kitten_results = eyeem.score_image(products[0], [eyeem.TAGS, eyeem.CAPTIONS, eyeem.AESTHETIC])"
   ]
  },
  {
   "cell_type": "markdown",
   "metadata": {},
   "source": [
    "# Gathering input\n",
    "At this stage we need to gather our input images for scoring.\n",
    "\n",
    "EyeEm API supports both image URLs and base64 encoded images.\n",
    "Let's use a csv with image urls."
   ]
  },
  {
   "cell_type": "code",
   "execution_count": null,
   "metadata": {},
   "outputs": [],
   "source": [
    "SAMPLE_FILE_TO_SCORE = './../data/active_pictures_scored.csv'\n",
    "OUTPUT_FILE = './../data/active_pictures_scored.csv'\n",
    "\n",
    "input_file = SAMPLE_FILE_TO_SCORE\n",
    "products = pd.read_csv(input_file)\n",
    "products.head()"
   ]
  },
  {
   "cell_type": "markdown",
   "metadata": {},
   "source": [
    "The csv file has the image url, which we can use for the EyeEm API. We score each image and store the results into another file for analysing later.\n",
    "\n",
    "### Advanced tasks:\n",
    "- Can you score images with Google API instead of EyeEm API?\n",
    "- You can also score some of your own images directly from files.\n",
    "\n",
    "\n",
    "# Using the API\n",
    "\n",
    "Next we need a function to score our images.\n",
    "\n",
    "The score_image method takes 2 arguments; the image url and a list of tasks on how to analyze. This version only asks for the aesthetic score. You can modify the code to request also for eyeem.TAGS and eyeem.CAPTIONS as well."
   ]
  },
  {
   "cell_type": "code",
   "execution_count": null,
   "metadata": {},
   "outputs": [],
   "source": [
    "def score_products(products, analyzer, output_file):\n",
    "    for index, row in products.iterrows():\n",
    "        try:\n",
    "            image_url = products.loc[index, \"image url\"]\n",
    "            print(\"Scoring image\", image_url)\n",
    "            image_scores = analyzer(image_url, [eyeem.AESTHETIC])\n",
    "            for model_name, model_score in image_scores.items():\n",
    "                products.loc[index, model_name] = model_score\n",
    "        except:\n",
    "            print(\"Unexpected error:\", sys.exc_info()[0])\n",
    "            \n",
    "    products.to_csv(output_file, index=False)\n",
    "    print(\"Done!\")\n",
    "\n",
    "score_products(products, analyzer=eyeem.score_image, output_file=OUTPUT_FILE)"
   ]
  },
  {
   "cell_type": "markdown",
   "metadata": {},
   "source": [
    "Once the response has run (It will read Done!), we can check what sort of results we get.\n",
    "\n",
    "Let's get some data from the file.\n",
    "\n",
    "We will work more with pandas from now on. You can take a look at the documentation: http://pandas.pydata.org/pandas-docs/stable/basics.html\n",
    "Here are a few hints already:\n",
    "- `head` to see top list of items\n",
    "- `plot.scatter` for a scatterplot on two columns\n",
    "- `idxmax` for the index of the highest row and `loc` to get the picture out.\n",
    "- `corr` for a correlation matrix between columns"
   ]
  },
  {
   "cell_type": "code",
   "execution_count": null,
   "metadata": {},
   "outputs": [],
   "source": [
    "results = pd.read_csv(OUTPUT_FILE)\n",
    "results.head()\n",
    "results.plot.scatter(x='aesthetic', y='ctr')\n",
    "i = results['aesthetic'].idxmax()\n",
    "print(\"Highest scoring image\", results.loc[i, 'image url'])\n",
    "results.corr()"
   ]
  },
  {
   "cell_type": "markdown",
   "metadata": {},
   "source": [
    "We have some data now. Let's move on to the next notebook."
   ]
  }
 ],
 "metadata": {
  "kernelspec": {
   "display_name": "Python 3",
   "language": "python",
   "name": "python3"
  },
  "language_info": {
   "codemirror_mode": {
    "name": "ipython",
    "version": 3
   },
   "file_extension": ".py",
   "mimetype": "text/x-python",
   "name": "python",
   "nbconvert_exporter": "python",
   "pygments_lexer": "ipython3",
   "version": "3.7.0"
  }
 },
 "nbformat": 4,
 "nbformat_minor": 2
}
