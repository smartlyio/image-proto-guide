{
 "cells": [
  {
   "cell_type": "code",
   "execution_count": null,
   "metadata": {},
   "outputs": [],
   "source": [
    "import pandas as pd\n",
    "import os\n",
    "import sys\n",
    "import eyeem"
   ]
  },
  {
   "cell_type": "markdown",
   "metadata": {},
   "source": [
    "We need to connect to our APIs. Insert EyeEm client ID and client Secret to be able to continue\n",
    "\n",
    "We'll analyze the picture of ![Image of kitten](https://placekitten.com/300/300)"
   ]
  },
  {
   "cell_type": "code",
   "execution_count": null,
   "metadata": {},
   "outputs": [],
   "source": [
    "client_id = 'CLIENT_ID'\n",
    "client_secret = 'CLIENT_SECRET'\n",
    "\n",
    "eyeem.connect(client_id, client_secret)\n",
    "\n",
    "# Testing that the API works\n",
    "products = ['https://placekitten.com/300/300']\n",
    "kitten_results = eyeem.score_image(products[0], [eyeem.TAGS, eyeem.CAPTIONS, eyeem.AESTHETIC])"
   ]
  },
  {
   "cell_type": "markdown",
   "metadata": {},
   "source": [
    "# Gathering input\n",
    "At this stage we need to gather our input images for scoring.\n",
    "\n",
    "EyeEm API supports both image URLs and base64 encoded images.\n",
    "Let's use a csv with image urls.\n",
    "\n",
    "## Advanced task:\n",
    "Add images into the images folder and analyze those."
   ]
  },
  {
   "cell_type": "code",
   "execution_count": null,
   "metadata": {},
   "outputs": [],
   "source": [
    "input_file = './../100Products.csv'\n",
    "products = pd.read_csv(input_file)\n",
    "products.head()"
   ]
  },
  {
   "cell_type": "markdown",
   "metadata": {},
   "source": [
    "Now that we have something with an image url, we score each image and store the results into another file for analysing.\n",
    "\n",
    "## Advanced task: Can you score images with Google API instead of EyeEm API"
   ]
  },
  {
   "cell_type": "code",
   "execution_count": null,
   "metadata": {},
   "outputs": [],
   "source": [
    "def score_products(products, analyzer, output_file):\n",
    "    for i in range(len(products)):\n",
    "        print(i)\n",
    "\n",
    "        try:\n",
    "            image_url = products.loc[i, \"image url\"]\n",
    "            image_scores = analyzer(image_url)\n",
    "            for model_name, model_score in image_scores.items():\n",
    "                products.loc[i, model_name] = model_score\n",
    "        except:\n",
    "            print(\"Unexpected error:\", sys.exc_info()[0])\n",
    "            \n",
    "        break\n",
    "\n",
    "    products.to_csv(output_file, index=False)\n",
    "\n",
    "output_file = '100Products_scores.csv'\n",
    "score_products(products, analyzer=eyeem.score_image, output_file=output_file)"
   ]
  },
  {
   "cell_type": "markdown",
   "metadata": {},
   "source": [
    "# Analysing results\n",
    "\n",
    "Now that we have scored our images, we can start analysing the results."
   ]
  },
  {
   "cell_type": "code",
   "execution_count": null,
   "metadata": {},
   "outputs": [],
   "source": [
    "# Required for showing plots within the notebook.\n",
    "%matplotlib inline\n",
    "filename = './../10kProducts_scores.csv'\n",
    "# Loading the data\n",
    "scores = pd.read_csv(filename)\n",
    "scores.hist(bins=20)\n",
    "scores.head()\n",
    "\n",
    "# How many ads per bucket could you use for advertising?"
   ]
  },
  {
   "cell_type": "code",
   "execution_count": null,
   "metadata": {},
   "outputs": [],
   "source": [
    "# Prices looks odd. We can get a better price-distribution with restricting the axes\n",
    "prices = scores['price'].fillna(0)\n",
    "prices.hist(bins=range(10, 1000, 50))\n",
    "prices.max()"
   ]
  },
  {
   "cell_type": "code",
   "execution_count": null,
   "metadata": {},
   "outputs": [],
   "source": [
    "# Analyze highest Aesthetics separately:\n",
    "high_aes = scores.nlargest(500, 'aesthetic')\n",
    "high_aes.hist(bins=20)\n",
    "high_aes.head()"
   ]
  },
  {
   "cell_type": "code",
   "execution_count": null,
   "metadata": {},
   "outputs": [],
   "source": [
    "%matplotlib inline\n",
    "high_aes.plot(x='price', y='aesthetic', kind='scatter', xlim=(0,250))"
   ]
  },
  {
   "cell_type": "code",
   "execution_count": null,
   "metadata": {},
   "outputs": [],
   "source": []
  }
 ],
 "metadata": {
  "kernelspec": {
   "display_name": "Python 3",
   "language": "python",
   "name": "python3"
  },
  "language_info": {
   "codemirror_mode": {
    "name": "ipython",
    "version": 3
   },
   "file_extension": ".py",
   "mimetype": "text/x-python",
   "name": "python",
   "nbconvert_exporter": "python",
   "pygments_lexer": "ipython3",
   "version": "3.7.0"
  }
 },
 "nbformat": 4,
 "nbformat_minor": 2
}
