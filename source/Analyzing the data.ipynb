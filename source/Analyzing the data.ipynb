{
 "cells": [
  {
   "cell_type": "markdown",
   "metadata": {},
   "source": [
    "# Analysing results\n",
    "\n",
    "Now that we have scored our images, we can start analysing the results.\n",
    "\n",
    "At this point we have a few goals.\n",
    "\n",
    "1. Select a number of pictures to use for advertising from the scored set.\n",
    "2. Analyze the usefulness of aesthetic score itself."
   ]
  },
  {
   "cell_type": "code",
   "execution_count": null,
   "metadata": {},
   "outputs": [],
   "source": [
    "# Required for showing plots within the notebook.\n",
    "%matplotlib inline\n",
    "import pandas as pd"
   ]
  },
  {
   "cell_type": "markdown",
   "metadata": {},
   "source": [
    "Let's start by looking at the perfomance `cpa_std` against aesthetic"
   ]
  },
  {
   "cell_type": "code",
   "execution_count": null,
   "metadata": {},
   "outputs": [],
   "source": [
    "training_data_file = './../data/active_products_clean.csv'\n",
    "train = pd.read_csv(training_data_file)"
   ]
  },
  {
   "cell_type": "code",
   "execution_count": null,
   "metadata": {},
   "outputs": [],
   "source": []
  },
  {
   "cell_type": "markdown",
   "metadata": {},
   "source": []
  },
  {
   "cell_type": "code",
   "execution_count": null,
   "metadata": {},
   "outputs": [],
   "source": [
    "predict_data_filename = './../data/10kProducts_scores.csv'\n",
    "scores = pd.read_csv(predict_data_filename)\n",
    "scores.hist(bins=20)\n",
    "scores.head()"
   ]
  },
  {
   "cell_type": "code",
   "execution_count": null,
   "metadata": {},
   "outputs": [],
   "source": [
    "# Prices looks odd. We can get a better price-distribution with restricting the axes\n",
    "prices = scores['price'].fillna(0)\n",
    "prices.hist(bins=range(10, 1000, 50))\n",
    "prices.max()"
   ]
  },
  {
   "cell_type": "code",
   "execution_count": null,
   "metadata": {},
   "outputs": [],
   "source": [
    "# Looking at the highest Aesthetics separately:\n",
    "high_aes = scores.nlargest(500, 'aesthetic')\n",
    "high_aes.hist(bins=20)\n",
    "high_aes.head()\n",
    "high_aes.plot(x='average', y='aesthetic', kind='scatter')\n",
    "high_aes.corr()"
   ]
  },
  {
   "cell_type": "markdown",
   "metadata": {},
   "source": [
    "# Selecting a number of pictures from 10k products\n",
    "\n",
    "Our best guess currently is purely random. Let's see if we can improve it."
   ]
  },
  {
   "cell_type": "code",
   "execution_count": null,
   "metadata": {},
   "outputs": [],
   "source": [
    "NUM_OF_PRODUCTS = 100\n",
    "\n",
    "# Purely random choice\n",
    "sample = scores.sample(NUM_OF_PRODUCTS)"
   ]
  },
  {
   "cell_type": "code",
   "execution_count": null,
   "metadata": {},
   "outputs": [],
   "source": [
    "# Combined selection by parameters\n",
    "price_aes = scores.where(scores['price'] > 500).where(scores['aesthetic'] > 0.4)\n",
    "selected_products = price_aes.sample(100, weights=price_aes['average'])\n",
    "selected_products.head()"
   ]
  }
 ],
 "metadata": {
  "kernelspec": {
   "display_name": "Python 3",
   "language": "python",
   "name": "python3"
  },
  "language_info": {
   "codemirror_mode": {
    "name": "ipython",
    "version": 3
   },
   "file_extension": ".py",
   "mimetype": "text/x-python",
   "name": "python",
   "nbconvert_exporter": "python",
   "pygments_lexer": "ipython3",
   "version": "3.7.0"
  }
 },
 "nbformat": 4,
 "nbformat_minor": 2
}
