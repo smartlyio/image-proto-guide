{
 "cells": [
  {
   "cell_type": "code",
   "execution_count": null,
   "metadata": {},
   "outputs": [],
   "source": [
    "import pandas as pd\n",
    "import os\n",
    "import sys\n",
    "import eyeem\n",
    "%matplotlib inline"
   ]
  },
  {
   "cell_type": "markdown",
   "metadata": {},
   "source": [
    "# Scoring images with APIs\n",
    "\n",
    "This notebook is about scoring a dataset of images and storing the results to a file for analysis.\n",
    "\n",
    "To begin, we need to connect to our APIs. Insert EyeEm client ID and client Secret to be able to continue\n",
    "\n",
    "Replace the CLIENT_ID and CLIENT_SECRET with the proper items to continue. Then run the code. You should see 'EyeEm Api token updated' if all goes well."
   ]
  },
  {
   "cell_type": "code",
   "execution_count": null,
   "metadata": {},
   "outputs": [],
   "source": [
    "client_id = 'CLIENT_ID'\n",
    "client_secret = 'CLIENT_SECRET'\n",
    "\n",
    "eyeem.connect(client_id, client_secret)"
   ]
  },
  {
   "cell_type": "markdown",
   "metadata": {},
   "source": [
    "Now that we've connected to the API, we can test that it works properly.\n",
    "\n",
    "We'll analyze the picture of ![Image of kitten](https://placekitten.com/300/300)\n",
    "\n",
    "Can you see how cute is the kitten according to the API? The response should have something about 'aesthetic_score'"
   ]
  },
  {
   "cell_type": "code",
   "execution_count": null,
   "metadata": {},
   "outputs": [],
   "source": [
    "# Testing that the API works\n",
    "image_urls = ['https://placekitten.com/300/300']\n",
    "kitten_results = eyeem.score_image_url(image_urls[0], [eyeem.TAGS, eyeem.CAPTIONS, eyeem.AESTHETIC])\n",
    "print(\"EyeEm API thinks the kitten's cuteness score is\", kitten_results['aesthetic'])"
   ]
  },
  {
   "cell_type": "markdown",
   "metadata": {},
   "source": [
    "##### *Great!*\n",
    "\n",
    "This is just one way of using the API. You can upload your own images as well to try it out!\n",
    "There are also other APIs which offer similar functionality. Like [Google Vision API](https://cloud.google.com/vision/)\n",
    "\n",
    "### Advanced tasks:\n",
    "- Eyeem API also supports uploading images. Try scoring some of your own images directly from files. Look into eyeem.py for hints.. :)\n",
    "- Can you score images with Google API instead of EyeEm API?"
   ]
  },
  {
   "cell_type": "markdown",
   "metadata": {},
   "source": [
    "# Using the API to score many images\n",
    "\n",
    "Our next task is to score many images. For exercise purposes, let's score the sample file with 50 images.\n",
    "\n",
    "The score_image method takes 2 arguments; the image url and a list of tasks on how to analyze. The method below only requests for the aesthetic score. You can modify the code to request also for eyeem.TAGS and eyeem.CAPTIONS as well."
   ]
  },
  {
   "cell_type": "code",
   "execution_count": null,
   "metadata": {},
   "outputs": [],
   "source": [
    "def score_products(products, analyzer, output_file):\n",
    "    for index, row in products.iterrows():\n",
    "        try:\n",
    "            image_url = products.loc[index, \"image url\"]\n",
    "            print(\"Scoring image\", image_url)\n",
    "            image_scores = analyzer(image_url, [eyeem.AESTHETIC])\n",
    "            for model_name, model_score in image_scores.items():\n",
    "                products.loc[index, model_name] = model_score\n",
    "        except:\n",
    "            print(\"Unexpected error:\", sys.exc_info()[0])\n",
    "            \n",
    "    products.to_csv(output_file, index=False)\n",
    "    print(\"Done!\")"
   ]
  },
  {
   "cell_type": "markdown",
   "metadata": {},
   "source": [
    "Loading the sample file with pandas is easy. Just check that the filename and path match to the downloaded data set.\n",
    "\n",
    "The csv file has the column for image url, which we can use for the EyeEm API. The above method also expects this.\n",
    "Let's score each image and store the results into another file for analysing later."
   ]
  },
  {
   "cell_type": "code",
   "execution_count": null,
   "metadata": {},
   "outputs": [],
   "source": [
    "# Loading the file\n",
    "SAMPLE_FILE_TO_SCORE = './../data/25_sample_images.csv'\n",
    "OUTPUT_FILE = './../data/25_sample_images_scored.csv'\n",
    "\n",
    "input_file = SAMPLE_FILE_TO_SCORE\n",
    "products = pd.read_csv(input_file)\n",
    "products.head()"
   ]
  },
  {
   "cell_type": "code",
   "execution_count": null,
   "metadata": {},
   "outputs": [],
   "source": [
    "# Scoring the images\n",
    "score_products(products, analyzer=eyeem.score_image_url, output_file=OUTPUT_FILE)"
   ]
  },
  {
   "cell_type": "markdown",
   "metadata": {},
   "source": [
    "Once the response has run (It will read Done!), we can check what sort of results we get.\n",
    "\n",
    "Let's get some data from the file.\n",
    "\n",
    "We will work more with pandas from now on. You can take a look at the documentation: http://pandas.pydata.org/pandas-docs/stable/basics.html\n",
    "Here are a few hints already:\n",
    "- `head` to see top list of items\n",
    "- `plot.scatter` for a scatterplot on two columns\n",
    "- `idxmax` for the index of the highest row and `loc` to get the picture out.\n",
    "- `corr` for a correlation matrix between columns"
   ]
  },
  {
   "cell_type": "code",
   "execution_count": null,
   "metadata": {},
   "outputs": [],
   "source": [
    "results = pd.read_csv(OUTPUT_FILE)\n",
    "results.head()\n",
    "results.plot.scatter(x='aesthetic', y='ctr')\n",
    "i = results['aesthetic'].idxmax()\n",
    "print(\"Highest scoring image\", results.loc[i, 'image url'])\n",
    "results.corr()"
   ]
  },
  {
   "cell_type": "markdown",
   "metadata": {},
   "source": [
    "We have some data now. Let's move on to the next notebook."
   ]
  }
 ],
 "metadata": {
  "kernelspec": {
   "display_name": "Python 3",
   "language": "python",
   "name": "python3"
  },
  "language_info": {
   "codemirror_mode": {
    "name": "ipython",
    "version": 3
   },
   "file_extension": ".py",
   "mimetype": "text/x-python",
   "name": "python",
   "nbconvert_exporter": "python",
   "pygments_lexer": "ipython3",
   "version": "3.7.0"
  }
 },
 "nbformat": 4,
 "nbformat_minor": 2
}
